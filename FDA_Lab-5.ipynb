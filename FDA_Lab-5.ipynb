{
 "cells": [
  {
   "cell_type": "markdown",
   "metadata": {},
   "source": [
    "1. Write a NumPy program to capitalize the first letter, lowercase, uppercase, swapcase, title-case of all the elements of a given array.\n",
    "Expected Output:\n",
    "Original Array:\n",
    "['python' 'PHP' 'java' 'C++']\n",
    "Capitalized: ['Python' 'Php' 'Java' 'C++']\n",
    "Lowered: ['python' 'php' 'java' 'c++']\n",
    "Uppered: ['PYTHON' 'PHP' 'JAVA' 'C++']\n",
    "Swapcased: ['PYTHON' 'php' 'JAVA' 'c++']\n",
    "Titlecased: ['Python' 'Php' 'Java' 'C++']"
   ]
  },
  {
   "cell_type": "code",
   "execution_count": 1,
   "metadata": {},
   "outputs": [
    {
     "name": "stdout",
     "output_type": "stream",
     "text": [
      "['python' 'PHP' 'java' 'C++']\n",
      "['PYTHON' 'PHP' 'JAVA' 'C++']\n",
      "['python' 'php' 'java' 'c++']\n",
      "['Python' 'Php' 'Java' 'C++']\n",
      "['PYTHON' 'php' 'JAVA' 'c++']\n"
     ]
    }
   ],
   "source": [
    "import numpy as np\n",
    "a=np.array(['python', 'PHP', 'java', 'C++'])\n",
    "print(a)\n",
    "b=np.char.upper(a)\n",
    "print(b)\n",
    "c=np.char.lower(a)\n",
    "print(c)\n",
    "d=np.char.capitalize(a)\n",
    "print(d)\n",
    "e=np.char.swapcase(a)\n",
    "print(e)"
   ]
  },
  {
   "cell_type": "markdown",
   "metadata": {},
   "source": [
    "2. Write a NumPy program to check whether each element of a given array starts with \"K\"\n",
    "Input: any one Sentence"
   ]
  },
  {
   "cell_type": "code",
   "execution_count": 2,
   "metadata": {},
   "outputs": [
    {
     "name": "stdout",
     "output_type": "stream",
     "text": [
      "Element starts with k and the element is---> kamal\n",
      "Element starts with k and the element is---> k\n",
      "Element starts with k and the element is---> kin\n"
     ]
    }
   ],
   "source": [
    "import numpy as np\n",
    "a=np.array(['A','B','C','D','kamal','k','kin'])\n",
    "for i in range(len(a)):\n",
    "    if (a[i][0]==\"k\" or a[i][0]==\"K\"):\n",
    "        print(\"Element starts with k and the element is--->\",a[i])\n",
    "    else:\n",
    "        pass"
   ]
  },
  {
   "cell_type": "markdown",
   "metadata": {},
   "source": [
    "3. Write a NumPy program to count a given word in each row of a given array of string values.\n",
    "Sample output:\n",
    "Original array of string values:\n",
    "[['Python' 'NumPy' 'Exercises']\n",
    "['Python' 'Pandas' 'Exercises']\n",
    "['Python' 'Machine learning' 'Python']]\n",
    "Count 'Python' row wise in the above array of string values:\n",
    "[[1 0 0]\n",
    "[1 0 0]\n",
    "[1 0 1]]"
   ]
  },
  {
   "cell_type": "code",
   "execution_count": 3,
   "metadata": {},
   "outputs": [
    {
     "name": "stdout",
     "output_type": "stream",
     "text": [
      "enter to find:NumPy\n",
      "[[0. 1. 0.]\n",
      " [0. 0. 0.]\n",
      " [0. 0. 0.]]\n"
     ]
    }
   ],
   "source": [
    "a=np.array([['Python', 'NumPy', 'Exercises'],['Python', 'Pandas', 'Exercises'],['Python', 'Machine learning', 'Python']])\n",
    "b=input(\"enter to find:\")\n",
    "c=np.zeros((3,3))\n",
    "for i in range(len(a)):\n",
    "    for j in range(len(a[i])):\n",
    "        if (a[i][j]==b):\n",
    "            c[i][j]=1\n",
    "    else:\n",
    "        pass\n",
    "print(c)"
   ]
  },
  {
   "cell_type": "markdown",
   "metadata": {},
   "source": [
    "4. Write a NumPy python program to find common values between two arrays.\n",
    "Expected Output:\n",
    "Array1: [ 0 10 20 40 60]\n",
    "Array2: [10, 30, 40]\n",
    "Common values between two arrays:\n",
    "[10 40]"
   ]
  },
  {
   "cell_type": "code",
   "execution_count": 4,
   "metadata": {},
   "outputs": [
    {
     "name": "stdout",
     "output_type": "stream",
     "text": [
      "10\n",
      "40\n",
      "[10, 40]\n"
     ]
    }
   ],
   "source": [
    "a=np.array([0,10,20,40,60])\n",
    "b=np.array([10, 30, 40])\n",
    "c=[]\n",
    "for i in range(len(a)):\n",
    "    for j in range(len(b)):\n",
    "        if(a[i]==b[j]):\n",
    "            c.append(a[i])\n",
    "            print(a[i])\n",
    "        else:\n",
    "            pass\n",
    "print(c)"
   ]
  },
  {
   "cell_type": "markdown",
   "metadata": {},
   "source": [
    "5. Write a NumPy program to split of an array of shape 4x4 it into two arrays along the second axis\n",
    "Sample array :\n",
    "Sample array :\n",
    "[[ 0 1 2 3]\n",
    "........\n",
    "[12 13 14 15]]\n",
    "Expected Output:\n",
    "[array([[ 0, 1],\n",
    "[ 4, 5],\n",
    "[ 8, 9],\n",
    "[12, 13]]), array([[ 2, 3],\n",
    "[ 6, 7],\n",
    "[10, 11],\n",
    "[14, 15]]), array([], shape=(4, 0), dtype=int64)]"
   ]
  },
  {
   "cell_type": "code",
   "execution_count": 5,
   "metadata": {},
   "outputs": [
    {
     "name": "stdout",
     "output_type": "stream",
     "text": [
      "[[ 0  1  2  3]\n",
      " [ 4  5  6  7]\n",
      " [ 8  9 10 11]\n",
      " [12 13 14 15]]\n",
      "[[ 0  1]\n",
      " [ 4  5]\n",
      " [ 8  9]\n",
      " [12 13]]\n",
      "[[ 2  3]\n",
      " [ 6  7]\n",
      " [10 11]\n",
      " [14 15]]\n"
     ]
    }
   ],
   "source": [
    "a=np.arange(0,16).reshape(4,4)\n",
    "[b,c]=np.hsplit(a,2)\n",
    "print(a)\n",
    "print(b)\n",
    "print(c)"
   ]
  }
 ],
 "metadata": {
  "kernelspec": {
   "display_name": "Python 3",
   "language": "python",
   "name": "python3"
  },
  "language_info": {
   "codemirror_mode": {
    "name": "ipython",
    "version": 3
   },
   "file_extension": ".py",
   "mimetype": "text/x-python",
   "name": "python",
   "nbconvert_exporter": "python",
   "pygments_lexer": "ipython3",
   "version": "3.8.3"
  }
 },
 "nbformat": 4,
 "nbformat_minor": 4
}
