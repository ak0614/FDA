{
 "cells": [
  {
   "cell_type": "markdown",
   "metadata": {},
   "source": [
    "1.WRITE A PROGRAM TO ADD 2 NUMBERS"
   ]
  },
  {
   "cell_type": "code",
   "execution_count": 1,
   "metadata": {},
   "outputs": [
    {
     "name": "stdout",
     "output_type": "stream",
     "text": [
      "Enter the 1st Number:12\n",
      "Enter the 2nd Number:13\n",
      "The Sum of the Entered Numbers is 25\n"
     ]
    }
   ],
   "source": [
    "a=int(input(\"Enter the 1st Number:\"))\n",
    "b=int(input(\"Enter the 2nd Number:\"))\n",
    "c=a+b\n",
    "print(\"The Sum of the Entered Numbers is\",c)"
   ]
  },
  {
   "cell_type": "markdown",
   "metadata": {},
   "source": [
    "2.WRITE A PROGRAM TO READ EMPLOYEE DATA AS(EMPLOYEENUMBER,EMPLOYEE NAME,EMPLOYEE SALARY,EMPLOYEE ADDRESS,EMPLOYEE CONTACT NUMBER AND EMPLOYEE MARITAL STATUS)"
   ]
  },
  {
   "cell_type": "code",
   "execution_count": 2,
   "metadata": {},
   "outputs": [
    {
     "name": "stdout",
     "output_type": "stream",
     "text": [
      "Enter Employee Number:1011\n",
      "Enter Employee Name:Kishore\n",
      "Enter Employee Salary:100000\n",
      "Enter Employee Address:35,Lake road,chennai\n",
      "Enter Employee Contact Number:9876543210\n",
      "Enter Employee Marital Status[True/False]:F\n",
      "  1011 \n",
      " Kishore \n",
      " 100000.0 \n",
      " 35,Lake road,chennai \n",
      " 9876543210 \n",
      " F\n"
     ]
    }
   ],
   "source": [
    "emp_no=int(input(\"Enter Employee Number:\"))\n",
    "emp_name=input(\"Enter Employee Name:\")\n",
    "emp_salary=float(input(\"Enter Employee Salary:\"))\n",
    "emp_address=input(\"Enter Employee Address:\")\n",
    "emp_contact=int(input(\"Enter Employee Contact Number:\"))\n",
    "emp_marital=input(\"Enter Employee Marital Status[True/False]:\")\n",
    "print(\" \",emp_no,'\\n',emp_name,'\\n',emp_salary,'\\n',emp_address,'\\n',emp_contact,'\\n',emp_marital)"
   ]
  }
 ],
 "metadata": {
  "kernelspec": {
   "display_name": "Python 3",
   "language": "python",
   "name": "python3"
  },
  "language_info": {
   "codemirror_mode": {
    "name": "ipython",
    "version": 3
   },
   "file_extension": ".py",
   "mimetype": "text/x-python",
   "name": "python",
   "nbconvert_exporter": "python",
   "pygments_lexer": "ipython3",
   "version": "3.8.3"
  }
 },
 "nbformat": 4,
 "nbformat_minor": 4
}
