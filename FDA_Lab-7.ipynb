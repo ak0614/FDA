{
 "cells": [
  {
   "cell_type": "code",
   "execution_count": 1,
   "metadata": {},
   "outputs": [],
   "source": [
    "import pandas as pd\n",
    "initial_d = {'First_name': ['Ben', 'Riyan', 'Ricky', 'Tarun', 'Maddy'],\n",
    "             'Last_name': ['L', 'P', 'TP', 'Raj', 'R'],\n",
    "             'Age': [17, 20, 19, 21, 18],\n",
    "             'City': ['Chennai', 'Banglore', 'Lonavala', 'Delhi', 'Patna']}\n",
    "\n",
    "df = pd.DataFrame(initial_d, columns = ['First_name', 'Last_name','Age', 'City'])"
   ]
  },
  {
   "cell_type": "code",
   "execution_count": 2,
   "metadata": {},
   "outputs": [
    {
     "name": "stdout",
     "output_type": "stream",
     "text": [
      "  First_name Last_name  Age      City Qualification\n",
      "0        Ben         L   17   Chennai          12th\n",
      "1      Riyan         P   20  Banglore         B.Com\n",
      "2      Ricky        TP   19  Lonavala        B.Arch\n",
      "3      Tarun       Raj   21     Delhi        B.Tech\n",
      "4      Maddy         R   18     Patna         B.Des\n"
     ]
    }
   ],
   "source": [
    "#1.) Mapping external values to dataframe values in Pandas.\n",
    "\n",
    "# Create new column using dictionary\n",
    "new_data = { \"Ben\":\"12th\",\"Riyan\":\"B.Com\",\"Ricky\":\"B.Arch\",\"Tarun\":\"B.Tech\",\"Maddy\":\"B.Des\" }\n",
    "\n",
    "# combine this new data with existing DataFrame\n",
    "df[\"Qualification\"] = df[\"First_name\"].map(new_data)\n",
    "\n",
    "print(df)"
   ]
  },
  {
   "cell_type": "code",
   "execution_count": 3,
   "metadata": {},
   "outputs": [
    {
     "data": {
      "text/html": [
       "<div>\n",
       "<style scoped>\n",
       "    .dataframe tbody tr th:only-of-type {\n",
       "        vertical-align: middle;\n",
       "    }\n",
       "\n",
       "    .dataframe tbody tr th {\n",
       "        vertical-align: top;\n",
       "    }\n",
       "\n",
       "    .dataframe thead th {\n",
       "        text-align: right;\n",
       "    }\n",
       "</style>\n",
       "<table border=\"1\" class=\"dataframe\">\n",
       "  <thead>\n",
       "    <tr style=\"text-align: right;\">\n",
       "      <th></th>\n",
       "      <th>First_name</th>\n",
       "      <th>Last_name</th>\n",
       "      <th>Age</th>\n",
       "      <th>City</th>\n",
       "      <th>Qualification</th>\n",
       "    </tr>\n",
       "  </thead>\n",
       "  <tbody>\n",
       "    <tr>\n",
       "      <th>0</th>\n",
       "      <td>Ben</td>\n",
       "      <td>L</td>\n",
       "      <td>17</td>\n",
       "      <td>Chennai</td>\n",
       "      <td>12th</td>\n",
       "    </tr>\n",
       "    <tr>\n",
       "      <th>1</th>\n",
       "      <td>Riyan</td>\n",
       "      <td>P</td>\n",
       "      <td>20</td>\n",
       "      <td>Banglore</td>\n",
       "      <td>B.Com</td>\n",
       "    </tr>\n",
       "    <tr>\n",
       "      <th>2</th>\n",
       "      <td>Ricky</td>\n",
       "      <td>TP</td>\n",
       "      <td>19</td>\n",
       "      <td>Lonavala</td>\n",
       "      <td>B.Arch</td>\n",
       "    </tr>\n",
       "    <tr>\n",
       "      <th>3</th>\n",
       "      <td>Tarun</td>\n",
       "      <td>Raj</td>\n",
       "      <td>21</td>\n",
       "      <td>Delhi</td>\n",
       "      <td>B.Tech</td>\n",
       "    </tr>\n",
       "  </tbody>\n",
       "</table>\n",
       "</div>"
      ],
      "text/plain": [
       "  First_name Last_name  Age      City Qualification\n",
       "0        Ben         L   17   Chennai          12th\n",
       "1      Riyan         P   20  Banglore         B.Com\n",
       "2      Ricky        TP   19  Lonavala        B.Arch\n",
       "3      Tarun       Raj   21     Delhi        B.Tech"
      ]
     },
     "execution_count": 3,
     "metadata": {},
     "output_type": "execute_result"
    }
   ],
   "source": [
    "#2.) Drop rows from the dataframe based on certain condition applied on a column.\n",
    "df = df.drop(df[df.Qualification == 'B.Des'].index)\n",
    "df"
   ]
  },
  {
   "cell_type": "code",
   "execution_count": 4,
   "metadata": {},
   "outputs": [
    {
     "name": "stdout",
     "output_type": "stream",
     "text": [
      "First_name          Tarun\n",
      "Last_name              TP\n",
      "Age                    21\n",
      "City             Lonavala\n",
      "Qualification      B.Tech\n",
      "dtype: object\n",
      "----------------------------\n",
      "First_name            Ben\n",
      "Last_name               L\n",
      "Age                    17\n",
      "City             Banglore\n",
      "Qualification        12th\n",
      "dtype: object\n"
     ]
    }
   ],
   "source": [
    "#3.) Select row with maximum and minimum value in Pandas dataframe\n",
    "print(df.max())\n",
    "print(\"----------------------------\")\n",
    "print(df.min())"
   ]
  },
  {
   "cell_type": "code",
   "execution_count": 5,
   "metadata": {},
   "outputs": [
    {
     "name": "stdout",
     "output_type": "stream",
     "text": [
      "        Date    Product  Last Price  Updated Price  Discount\n",
      "0  10/2/2011   Umbrella        1200           1250        10\n",
      "1  11/2/2011    Matress        1500           1450        10\n",
      "2  12/2/2011  Badminton        1600           1550        10\n",
      "3  13/2/2011    Shuttle         352            400        10\n"
     ]
    }
   ],
   "source": [
    "#4.) Conditional operation on Pandas DataFrame columns\n",
    "# importing pandas as pd\n",
    "import pandas as pd\n",
    "  \n",
    "# Create the dataframe\n",
    "df = pd.DataFrame({'Date':['10/2/2011', '11/2/2011', '12/2/2011', '13/2/2011'],\n",
    "                   'Product':['Umbrella', 'Matress', 'Badminton', 'Shuttle'],\n",
    "                   'Last Price':[1200, 1500, 1600, 352],\n",
    "                   'Updated Price':[1250, 1450, 1550, 400],\n",
    "                   'Discount':[10, 10, 10, 10]})\n",
    "  \n",
    "# Print the dataframe\n",
    "print(df)"
   ]
  },
  {
   "cell_type": "code",
   "execution_count": 6,
   "metadata": {},
   "outputs": [
    {
     "name": "stdout",
     "output_type": "stream",
     "text": [
      "        Date    Product  Last Price  Updated Price  Discount  Final cost\n",
      "0  10/2/2011   Umbrella        1200           1250        10      1125.0\n",
      "1  11/2/2011    Matress        1500           1450        10      1305.0\n",
      "2  12/2/2011  Badminton        1600           1550        10      1395.0\n",
      "3  13/2/2011    Shuttle         352            400        10       360.0\n"
     ]
    }
   ],
   "source": [
    "#4.) Conditional operation on Pandas DataFrame columns\n",
    "# Check if the updated price is available or not\n",
    "if 'Updated Price' in df.columns:\n",
    "    df['Final cost'] = df['Updated Price'] - (df['Updated Price']*0.1)\n",
    "  \n",
    "else :\n",
    "    df['Final cost'] = df['Last Price'] - (df['Last Price']*0.1)\n",
    "  \n",
    "# Print the Dataframe\n",
    "print(df)"
   ]
  },
  {
   "cell_type": "code",
   "execution_count": 7,
   "metadata": {},
   "outputs": [
    {
     "name": "stdout",
     "output_type": "stream",
     "text": [
      "        Date    Product  Last Price  Updated Price  Discount  Final cost\n",
      "0  10/2/2011   Umbrella        1200           1250        10      1125.0\n",
      "1  11/2/2011    Matress        1500           1450        10      1305.0\n",
      "2  12/2/2011  Badminton        1600           1550        10      1395.0\n",
      "3  13/2/2011    Shuttle         352            400        10       360.0\n"
     ]
    }
   ],
   "source": [
    "#5.) Using dictionary to remap values in Pandas DataFrame columns\n",
    "dict = {17 : 25, 20: 25, 19 : 25, 21: 25}\n",
    "df3=df.replace({\"Age\": dict})\n",
    "print(df3)"
   ]
  }
 ],
 "metadata": {
  "kernelspec": {
   "display_name": "Python 3",
   "language": "python",
   "name": "python3"
  },
  "language_info": {
   "codemirror_mode": {
    "name": "ipython",
    "version": 3
   },
   "file_extension": ".py",
   "mimetype": "text/x-python",
   "name": "python",
   "nbconvert_exporter": "python",
   "pygments_lexer": "ipython3",
   "version": "3.8.3"
  }
 },
 "nbformat": 4,
 "nbformat_minor": 4
}
