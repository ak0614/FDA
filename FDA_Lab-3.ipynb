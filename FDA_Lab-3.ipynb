{
 "cells": [
  {
   "cell_type": "markdown",
   "metadata": {},
   "source": [
    "1. Find the sum of the series upto n terms."
   ]
  },
  {
   "cell_type": "code",
   "execution_count": 1,
   "metadata": {},
   "outputs": [
    {
     "name": "stdout",
     "output_type": "stream",
     "text": [
      "Enter a number to find the SUM of the n terms:10\n",
      "The sum of the n terms is 45\n"
     ]
    }
   ],
   "source": [
    "n=int(input(\"Enter a number to find the SUM of the n terms:\"))\n",
    "sum=0\n",
    "for i in range(n):\n",
    "    sum+=i\n",
    "print(\"The sum of the n terms is\",sum)"
   ]
  },
  {
   "cell_type": "markdown",
   "metadata": {},
   "source": [
    "2. Write a program to calculate the electricity bill (accept number of unit from user) according to the following criteria :\n",
    "             Unit                                                     Price  \n",
    "First 100 units                                               no charge\n",
    "Next 100 units                                              Rs 5 per unit\n",
    "After 200 units                                             Rs 10 per unit\n",
    "(For example if input unit is 350 than total bill amount is Rs2000)"
   ]
  },
  {
   "cell_type": "code",
   "execution_count": 2,
   "metadata": {},
   "outputs": [
    {
     "name": "stdout",
     "output_type": "stream",
     "text": [
      "Enter the number of units used:250\n",
      "Rs. 1000\n"
     ]
    }
   ],
   "source": [
    "amount=0\n",
    "units=int(input(\"Enter the number of units used:\"))\n",
    "for i in range(units):\n",
    "    if i<100:\n",
    "        continue\n",
    "    elif i<200:\n",
    "        amount+=5\n",
    "    else:\n",
    "        amount+=10\n",
    "print(\"Rs.\",amount)"
   ]
  },
  {
   "cell_type": "markdown",
   "metadata": {},
   "source": [
    "3. Print list in reverse order using a loop"
   ]
  },
  {
   "cell_type": "code",
   "execution_count": 3,
   "metadata": {},
   "outputs": [
    {
     "name": "stdout",
     "output_type": "stream",
     "text": [
      "Enter the list:[1,2,3,4,5]\n",
      "Original List: [1, 2, 3, 4, 5]\n",
      "Reversed List: [5, 4, 3, 2, 1]\n"
     ]
    }
   ],
   "source": [
    "lst=eval(input(\"Enter the list:\"))\n",
    "lst2=[]\n",
    "for i in range(-1,-1*len(lst)-1,-1):\n",
    "    lst2.append(lst[i])\n",
    "print(\"Original List:\",lst)\n",
    "print(\"Reversed List:\",lst2)"
   ]
  },
  {
   "cell_type": "markdown",
   "metadata": {},
   "source": [
    "4. Write a program to use for loop to print the following reverse number pattern"
   ]
  },
  {
   "cell_type": "code",
   "execution_count": 4,
   "metadata": {},
   "outputs": [
    {
     "name": "stdout",
     "output_type": "stream",
     "text": [
      "Enter the number to print the reverse number pattern:7\n",
      "7 6 5 4 3 2 1 \n",
      "6 5 4 3 2 1 \n",
      "5 4 3 2 1 \n",
      "4 3 2 1 \n",
      "3 2 1 \n",
      "2 1 \n",
      "1 \n",
      "\n"
     ]
    }
   ],
   "source": [
    "rows=int(input(\"Enter the number to print the reverse number pattern:\"))\n",
    "for i in range(0,rows+1):\n",
    "    for j in range(rows-i,0,-1):\n",
    "        print(j,end=\" \")\n",
    "    print()"
   ]
  }
 ],
 "metadata": {
  "kernelspec": {
   "display_name": "Python 3",
   "language": "python",
   "name": "python3"
  },
  "language_info": {
   "codemirror_mode": {
    "name": "ipython",
    "version": 3
   },
   "file_extension": ".py",
   "mimetype": "text/x-python",
   "name": "python",
   "nbconvert_exporter": "python",
   "pygments_lexer": "ipython3",
   "version": "3.8.3"
  }
 },
 "nbformat": 4,
 "nbformat_minor": 4
}
